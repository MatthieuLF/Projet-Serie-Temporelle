{
 "cells": [
  {
   "cell_type": "markdown",
   "metadata": {},
   "source": [
    "Importer les librairies utiles"
   ]
  },
  {
   "cell_type": "code",
   "execution_count": 4,
   "metadata": {},
   "outputs": [
    {
     "ename": "ModuleNotFoundError",
     "evalue": "No module named 'pandas'",
     "output_type": "error",
     "traceback": [
      "\u001b[1;31m---------------------------------------------------------------------------\u001b[0m",
      "\u001b[1;31mModuleNotFoundError\u001b[0m                       Traceback (most recent call last)",
      "Cell \u001b[1;32mIn[4], line 1\u001b[0m\n\u001b[1;32m----> 1\u001b[0m \u001b[38;5;28;01mimport\u001b[39;00m \u001b[38;5;21;01mpandas\u001b[39;00m \u001b[38;5;28;01mas\u001b[39;00m \u001b[38;5;21;01mpd\u001b[39;00m \n\u001b[0;32m      2\u001b[0m \u001b[38;5;28;01mimport\u001b[39;00m \u001b[38;5;21;01mnumpy\u001b[39;00m \u001b[38;5;28;01mas\u001b[39;00m \u001b[38;5;21;01mnp\u001b[39;00m \n\u001b[0;32m      3\u001b[0m \u001b[38;5;28;01mimport\u001b[39;00m \u001b[38;5;21;01mseaborn\u001b[39;00m \u001b[38;5;28;01mas\u001b[39;00m \u001b[38;5;21;01msb\u001b[39;00m \n",
      "\u001b[1;31mModuleNotFoundError\u001b[0m: No module named 'pandas'"
     ]
    }
   ],
   "source": [
    "import pandas as pd \n",
    "import numpy as np \n",
    "import seaborn as sb "
   ]
  },
  {
   "cell_type": "markdown",
   "metadata": {},
   "source": [
    "Récupérer le fichier csv au travers d'un data frame"
   ]
  },
  {
   "cell_type": "code",
   "execution_count": 7,
   "metadata": {},
   "outputs": [
    {
     "data": {
      "text/plain": [
       "<bound method DataFrame.info of      Index                                      Libellé index  2017_08  \\\n",
       "0        1             Règlements de compte entre malfaireurs        8   \n",
       "1        2       Homicides pour voler et à l'occasion de vols        3   \n",
       "2        3                     Homicides pour d'autres motifs       67   \n",
       "3        4  Tentatives d'homicides pour voler et à l'occas...        6   \n",
       "4        5          Tentatives homicides pour d'autres motifs      218   \n",
       "..     ...                                                ...      ...   \n",
       "102    103  Infractions à l'exercice d'une profession règl...      131   \n",
       "103    104  Infractions au droit de l'urbanisme et de la c...      269   \n",
       "104    105                                   Fraudes fiscales       40   \n",
       "105    106            Autres délits économiques et financiers      756   \n",
       "106    107                                      Autres délits    10098   \n",
       "\n",
       "     2017_07  2017_06  2017_05  2017_04  2017_03  2017_02  2017_01  ...  \\\n",
       "0          9        8        8        2       14       15       10  ...   \n",
       "1          2        4        4        6        2        4        6  ...   \n",
       "2         75       55       52       76       56       51       61  ...   \n",
       "3          5        6       12        4       13        5       24  ...   \n",
       "4        238      224      200      208      228      168      165  ...   \n",
       "..       ...      ...      ...      ...      ...      ...      ...  ...   \n",
       "102      123      139      123      114      122      135      115  ...   \n",
       "103      346      360      318      339      406      350      381  ...   \n",
       "104       65       55       58       49       63       45       48  ...   \n",
       "105      830      923      908      689      745      661      764  ...   \n",
       "106    10351    11114    10848    10013    11676     9881    10422  ...   \n",
       "\n",
       "     2000_10  2000_09  2000_08  2000_07  2000_06  2000_05  2000_04  2000_03  \\\n",
       "0          8        8        6        5       12        5        2        9   \n",
       "1          3        4        9        5        4        4        7        6   \n",
       "2         84       82       74       75       62       77       76       70   \n",
       "3         14        5        8       10       14       14        5        9   \n",
       "4         87       95       68      101       85      106       63      104   \n",
       "..       ...      ...      ...      ...      ...      ...      ...      ...   \n",
       "102       58       47       83       62       51       65       77       64   \n",
       "103      204      222      146      217      171      166      209      174   \n",
       "104       29       41       36       26       35       43       40       50   \n",
       "105      120      140      102      130      154      180      188      191   \n",
       "106     7502     6503     6574     6124     6356     6456     5975     7039   \n",
       "\n",
       "     2000_02  2000_01  \n",
       "0          5       11  \n",
       "1          5        2  \n",
       "2         96       60  \n",
       "3         10        7  \n",
       "4         91       65  \n",
       "..       ...      ...  \n",
       "102       86      128  \n",
       "103      176      170  \n",
       "104       44       36  \n",
       "105      154      137  \n",
       "106     6557     5510  \n",
       "\n",
       "[107 rows x 214 columns]>"
      ]
     },
     "execution_count": 7,
     "metadata": {},
     "output_type": "execute_result"
    }
   ],
   "source": [
    "dataset = pd.DataFrame.df = pd.read_csv(\"crime-in-france.csv\")\n",
    "dataset.head()\n",
    "dataset.info"
   ]
  }
 ],
 "metadata": {
  "kernelspec": {
   "display_name": "Python 3",
   "language": "python",
   "name": "python3"
  },
  "language_info": {
   "codemirror_mode": {
    "name": "ipython",
    "version": 3
   },
   "file_extension": ".py",
   "mimetype": "text/x-python",
   "name": "python",
   "nbconvert_exporter": "python",
   "pygments_lexer": "ipython3",
   "version": "3.12.1"
  }
 },
 "nbformat": 4,
 "nbformat_minor": 2
}
